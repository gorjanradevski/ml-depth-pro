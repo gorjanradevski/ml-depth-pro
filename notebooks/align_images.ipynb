{
 "cells": [
  {
   "cell_type": "code",
   "execution_count": null,
   "id": "5022ce3d",
   "metadata": {},
   "outputs": [],
   "source": [
    "import cv2\n",
    "import numpy as np\n",
    "import matplotlib.pyplot as plt"
   ]
  },
  {
   "cell_type": "code",
   "execution_count": null,
   "id": "08a1d96d",
   "metadata": {},
   "outputs": [],
   "source": [
    "# Load images\n",
    "rgb = cv2.imread(\"../data/saved_images/409238553452200_color.png\")\n",
    "depth_colormap = cv2.imread(\"../data/saved_images/409238553452200_depth.png\", cv2.IMREAD_UNCHANGED)\n",
    "\n",
    "# Convert BGR to RGB for matplotlib\n",
    "rgb_rgb = cv2.cvtColor(rgb, cv2.COLOR_BGR2RGB)\n",
    "\n",
    "# Resize if needed\n",
    "depth_resized = cv2.resize(depth_colormap, (rgb.shape[1], rgb.shape[0]))\n",
    "\n",
    "# === Try an approximate alignment ===\n",
    "# D435 has around a 2.5cm baseline between RGB and IR, which translates to several pixels at 640x480\n",
    "dx, dy = -15, 6  # You can tweak these manually by eye\n",
    "\n",
    "M = np.float32([[1, 0, dx], [0, 1, dy]])\n",
    "aligned_depth = cv2.warpAffine(depth_resized, M, (rgb.shape[1], rgb.shape[0]))\n",
    "\n",
    "# === Show results ===\n",
    "plt.figure(figsize=(12, 6))\n",
    "plt.subplot(1, 3, 1)\n",
    "plt.title(\"RGB Image\")\n",
    "plt.imshow(rgb_rgb)\n",
    "plt.axis(\"off\")\n",
    "\n",
    "plt.subplot(1, 3, 2)\n",
    "plt.title(\"Unaligned Depth\")\n",
    "plt.imshow(depth_resized, cmap='plasma')\n",
    "plt.axis(\"off\")\n",
    "\n",
    "plt.subplot(1, 3, 3)\n",
    "plt.title(\"Aligned Depth\")\n",
    "plt.imshow(aligned_depth, cmap='plasma')\n",
    "plt.axis(\"off\")\n",
    "\n",
    "plt.tight_layout()\n",
    "plt.show()\n"
   ]
  },
  {
   "cell_type": "code",
   "execution_count": null,
   "id": "9b548a4d",
   "metadata": {},
   "outputs": [],
   "source": []
  }
 ],
 "metadata": {
  "kernelspec": {
   "display_name": "Python 3 (ipykernel)",
   "language": "python",
   "name": "python3"
  },
  "language_info": {
   "codemirror_mode": {
    "name": "ipython",
    "version": 3
   },
   "file_extension": ".py",
   "mimetype": "text/x-python",
   "name": "python",
   "nbconvert_exporter": "python",
   "pygments_lexer": "ipython3",
   "version": "3.9.16"
  }
 },
 "nbformat": 4,
 "nbformat_minor": 5
}
